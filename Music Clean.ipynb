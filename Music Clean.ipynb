{
 "cells": [
  {
   "cell_type": "code",
   "execution_count": 1,
   "metadata": {
    "collapsed": true
   },
   "outputs": [],
   "source": [
    "import numpy as np\n",
    "import matplotlib.pyplot as plt\n",
    "import matplotlib.mlab as mlab\n",
    "import librosa\n",
    "from microphone import record_audio, play_audio\n",
    "from scipy.ndimage.filters import maximum_filter\n",
    "from scipy.ndimage.morphology import generate_binary_structure, binary_erosion\n",
    "from scipy.ndimage.morphology import iterate_structure\n",
    "from collections import Counter\n",
    "import pickle\n",
    "\n",
    "fs = 44100\n",
    "fss = 44032\n",
    "song_database = {}\n",
    "totalMatches_database = {}\n",
    "songLength_database = {}"
   ]
  },
  {
   "cell_type": "code",
   "execution_count": 2,
   "metadata": {
    "collapsed": true
   },
   "outputs": [],
   "source": [
    "asdf = pickle.load( open( \"song_database.p\", \"rb\" ) )\n",
    "totalMatches_database = pickle.load( open( \"totalMatches_database.p\", \"rb\" ) )\n",
    "songLength_database = pickle.load( open( \"song_database.p\", \"rb\" ) )\n"
   ]
  },
  {
   "cell_type": "code",
   "execution_count": 4,
   "metadata": {
    "collapsed": true
   },
   "outputs": [],
   "source": [
    "#Convert Input to Array\n",
    "\n",
    "def file_to_array(file_path):\n",
    "    \"\"\"  It transforms a song into a np array\n",
    "    :param\n",
    "        file_path[String]:\n",
    "            A file path to the song\n",
    "    :return:\n",
    "        samples[np.array]:\n",
    "            This is an array of the values of the song at the file path at a sampling rate of 44100 Hz.\n",
    "    \"\"\"\n",
    "    samples, fs = librosa.load(file_path, sr = 44100, mono = True)\n",
    "    return samples\n",
    "\n",
    "def mic_to_numpy_array(time):\n",
    "    mic_input, fs= record_audio(time)\n",
    "    a = []\n",
    "    for i in mic_input:\n",
    "        a.append(np.fromstring(i, dtype=np.int16))\n",
    "    a = np.hstack(a)\n",
    "    return a\n",
    "\n",
    "###Get DATA\n",
    "\n",
    "def spectogram(samples):\n",
    "    \"\"\"\n",
    "    :param\n",
    "        samples:\n",
    "    :return:\n",
    "        (S, f, t):\n",
    "            This is a tuple of the spectrogram, the frequencies and the times.\n",
    "        S:\n",
    "            The 2D array of the coefficients of the DFT of the song. So S[i, j] is the coefficient at frequency = i\n",
    "            and time = j.\n",
    "        f:\n",
    "    \"\"\"\n",
    "\n",
    "    digital = np.copy(samples)\n",
    "    S, f, t = mlab.specgram(digital, NFFT=4096, Fs=fs, window=mlab.window_hanning, noverlap=(4096 // 2))\n",
    "    to_return = (S, f, t)\n",
    "    return to_return\n",
    "\n",
    "def peaks(spectrogram_arr):\n",
    "    \"\"\"\n",
    "    This finds the peaks of a spectrogram.\n",
    "    :param:\n",
    "    spectrogram_arr[np.array]:\n",
    "    An array of the spectrogram.\n",
    "    The 2D array of the coefficients of the DFT of the song. So S[i, j] is the coefficient at frequency = freq[i]\n",
    "    and time = time[j].\n",
    "    :return:\n",
    "    peaks[np.array]:\n",
    "    This is an array with the values of the peaks in the respective\n",
    "    areas that are there.\n",
    "    \"\"\"\n",
    "    struct = generate_binary_structure(2, 1)\n",
    "    neighborhood = iterate_structure(struct, 10)\n",
    "\n",
    "    is_peaks = spectrogram_arr == maximum_filter(spectrogram_arr, footprint=neighborhood)\n",
    "    ys, xs = np.histogram(spectrogram_arr.flatten(), bins=spectrogram_arr.size // 2, normed=True)\n",
    "    dx = xs[-1] - xs[-2]\n",
    "    cdf = np.cumsum(ys) * dx  # this gives you the cumulative distribution of amplitudes\n",
    "    cutoff = xs[np.searchsorted(cdf, 0.77)]\n",
    "    foreground = (spectrogram_arr >= cutoff)\n",
    "    # fig, (ax1, ax2) = plt.subplots(1, 2)\n",
    "    # ax2.imshow(foreground)\n",
    "    # ax1.imshow(np.logical_and(foreground, is_peaks))\n",
    "    return np.logical_and(foreground, is_peaks)\n",
    "\n",
    "\n",
    "def convertData(b):\n",
    "    temp = []\n",
    "    lenn = len(b) - 1\n",
    "\n",
    "    b = np.array(b).T\n",
    "    for time, row in enumerate(b):\n",
    "        for freq, item in enumerate(row):\n",
    "            if (item):\n",
    "                temp.append((lenn - freq, time))\n",
    "                # print((lenn - freq,time))\n",
    "    # return unzip(np.where(asd))#temp\n",
    "    return temp\n",
    "\n",
    "\n",
    "\n",
    "\n",
    "\n",
    "def add_song_to_dict(peaks, songTitle, fan=20):\n",
    "    \"\"\"\n",
    "    adds a song to a databse by anazlyzing the difference in time between the change in frequencies\n",
    "    song ex:\n",
    "        keys: (f1,f2,t2-t1), (f1,f3,t3-t1), ... (f1,f(1+freqfan), t(1+freqfan)-t1)\n",
    "              (f2,f3,t3-t2), (f2,f4,t4-t2), ... (f2,f(2+freqfan), t(2+freqfan)-t2)\n",
    "              ...\n",
    "\n",
    "        stored for each key: (\"title\",diff from t1 to beg of mic audio)\n",
    "    ------------------------------------------------------------------------------------------------\n",
    "\n",
    "    paramaters:\n",
    "        peaks: 2D array of Nx2: List of each song's peaks incuding the (freq and time-stamp)\n",
    "        songTitle: str of songTitle\n",
    "\n",
    "    returns:\n",
    "        adds to dictionary all of the keys and a tuple of (their respective song title, t1)\n",
    "    \"\"\"\n",
    "    # pickling - fast way for python to save dictionaries\n",
    "    for peakStartIndex in range(len(peaks)):\n",
    "        referencePeak = peaks[peakStartIndex]\n",
    "        f1 = referencePeak[0]\n",
    "        #print(peakStartIndex)\n",
    "        t1 = referencePeak[1]\n",
    "\n",
    "        # get the slice of fan:\n",
    "        if fan > len(peaks[peakStartIndex + 1:]):\n",
    "            peak_slice = peaks[peakStartIndex + 1:]\n",
    "        else:\n",
    "            peak_slice = peaks[peakStartIndex + 1:peakStartIndex + fan]\n",
    "\n",
    "        for peak in peak_slice:\n",
    "            # what happens if you reach the end!!!! include if statement\n",
    "            f2 = peak[0]\n",
    "            t2 = peak[1]\n",
    "            # check key\n",
    "            key = (f1, f2, t2 - t1)\n",
    "            if not (key in song_database):\n",
    "                song_database[key] = []\n",
    "\n",
    "            song_database[key].append((songTitle, t1))\n",
    "            # include another dict for the a new dict for new song nd compare\n",
    "\n",
    "\n",
    "def check_database(MicPeaks, lengthOfRecording, fan=20, howManyToCompare=5):\n",
    "    # !!!!TRY DOING PERCENTAES AND NORMAILIZATION FOR SPED UP SONGS AND HIGHER KEY\n",
    "    \"\"\"\n",
    "        First calculates time differences between peaks of input\n",
    "\n",
    "        Compares the peak distributions of the Mic input to that of the dictionary\n",
    "        Calls the keys created by the Mic peaks, and searches the database for matching keys\n",
    "        Creates a new dictionary and for every match, it will enter the same key and enter the tuple: (Song title, T(song) - T(MicInput))\n",
    "        Checks the dictionarry with Counter() to fnd the greatest number of standardized matches\n",
    "    ------------------------------------------------------------------------------------------------\n",
    "\n",
    "    paramaters:\n",
    "        MicPeaks: 2D array of Nx2: List of Mic song's peaks incuding the (freq and time-stamp)\n",
    "\n",
    "    returns:\n",
    "        New dictionary of common keys, including the tuple mentioned above^\n",
    "        The greatest number of matching bins using Counter() - possibly include a confidence percentage by ranking greatest retyrns, and checking appropriate confidences\n",
    "    \"\"\"\n",
    "    # 1)\n",
    "    MicKeyList = []\n",
    "    for peakStartIndex in range(len(MicPeaks)):\n",
    "        referencePeak = MicPeaks[peakStartIndex]\n",
    "        f1 = referencePeak[0]\n",
    "        t1 = referencePeak[1]\n",
    "\n",
    "        # get the slice of fan:\n",
    "        if fan > len(MicPeaks[peakStartIndex + 1:]):\n",
    "            peak_slice = MicPeaks[peakStartIndex + 1:]\n",
    "        else:\n",
    "            peak_slice = MicPeaks[peakStartIndex + 1:peakStartIndex + 1 + fan]\n",
    "\n",
    "        for peak in peak_slice:\n",
    "            # what happens if you reach the end!!!! include if statement\n",
    "            f2 = peak[0]\n",
    "            t2 = peak[1]\n",
    "            # check key\n",
    "            key = (f1, f2, t2 - t1)\n",
    "            MicKeyList.append(key)\n",
    "\n",
    "\n",
    "#    MicKeyList = []\n",
    "#    for peakStartIndex in range(howManyRefPeaks):\n",
    "#        referencePeak = MicPeaks[peakStartIndex]\n",
    "#        f1 = referencePeak[0]\n",
    "#        t1 = referencePeak[1]\n",
    "\n",
    "        # get the slice of fan:\n",
    "        \n",
    "#        peak_slice = MicPeaks[peakStartIndex + 1:]\n",
    "\n",
    "#        for peak in peak_slice:\n",
    "            # what happens if you reach the end!!!! include if statement\n",
    "#            f2 = peak[0]\n",
    "#            t2 = peak[1]\n",
    "            # check key\n",
    "#            key = (f1, f2, t2 - t1)\n",
    "#            MicKeyList.append(key)\n",
    "\n",
    "\n",
    "\n",
    "\n",
    "\n",
    "\n",
    "\n",
    "\n",
    "\n",
    "\n",
    "\n",
    "    # 2)\n",
    "\n",
    "    CommonKeys = []\n",
    "    # checks for MicKeys in song_database_dict\n",
    "    #   if there is, record tuple: (\"Song Title\" of match, T(song) - t1 (aka ref[1]))\n",
    "\n",
    "    \n",
    "    #print(MicKeyList)\n",
    "    for key in MicKeyList:\n",
    "        #print(key)\n",
    "        if key in song_database:\n",
    "            #print(key,song_database[key])\n",
    "            # Its a match!\n",
    "            # print(len(song_database[key][0]))\n",
    "\n",
    "\n",
    "            # if length of song_database[key] > 1, do a loop\n",
    "\n",
    "            for match in song_database[key]:\n",
    "                songMatchTitle = match[0]\n",
    "                songT1Ref = match[1]\n",
    "                \n",
    "                CommonKeys.append(songMatchTitle)\n",
    "                #CommonKeys.append(match)\n",
    "                \n",
    "    MatchCount = Counter(CommonKeys)\n",
    "    \n",
    "    #print(MatchCount.most_common())\n",
    "    #print(MatchCount)\n",
    "    \n",
    "    \n",
    "    \n",
    "    \n",
    "    \n",
    "    \n",
    "    \n",
    "    #average:    \n",
    "    #############################\n",
    "    totalMatches = 0\n",
    "    PercentDict = {}\n",
    "    for row in MatchCount.most_common(20):\n",
    "        if not row[0][0] in PercentDict:\n",
    "            PercentDict[row[0]] = 0\n",
    "            \n",
    "        PercentDict[row[0]] += row[1]\n",
    "        \n",
    "        totalMatches += row[1]\n",
    "    \n",
    "    #print(PercentDict)\n",
    "    \n",
    "    name =  Counter(PercentDict).most_common(1)[0][0]\n",
    "#how good the #1 match is\n",
    "    #how many matches / how many peaks in song that should be there are in that __ second interval\n",
    "    #how many matches / (how many peaks in song / total time of song)* length of recording\n",
    "    #Confidence1 = Counter(PercentDict).most_common(1)[0][1]/(lengthOfRecording*fss*totalMatches_database[name]/songLength_database[name])\n",
    "    #print(Confidence1)\n",
    "    \n",
    "#how it compares to the match next to it\n",
    "    #matches of song / matches of next best song\n",
    "    \n",
    "    Confidence2 = Counter(PercentDict).most_common(1)[0][1]/Counter(PercentDict).most_common(2)[1][1]\n",
    "    #print(Confidence2)    \n",
    "    #print(\"peaks found:\", Counter(PercentDict).most_common(1)[0][1],\"/n\",'samples:',lengthOfRecording*fss,\"/n\",\"total matches:\",totalMatches_database[name],'/n',\"songLength\",songLength_database[name])\n",
    "    #print(Confidence1*(Confidence2-1))\n",
    "    \n",
    "    \n",
    "    \n",
    "    \n",
    "    #############################\n",
    "    PredictedSong = Counter(PercentDict).most_common(1)[0][0]\n",
    "    #PercentConfidence = Confidence1 #PercentDict[PredictedSong]/totalMatches\n",
    "    #PercentConfidence=1+(-0.0341778-0.9054751)/(1+((Confidence1/1.390494)**3)*.267277)\n",
    "    print(Confidence2)\n",
    "    PercentConfidence=1+(-0.0341778-0.9054751)/(1+((Confidence2/1.40494)**3)*.267277)\n",
    "    \n",
    "    \n",
    "    \n",
    "    OtherTopSongs = MatchCount.most_common(howManyToCompare+1)\n",
    "    temmp = np.array(OtherTopSongs)\n",
    "    y_pos = range(len(temmp))\n",
    "    performance = temmp[:,1]\n",
    "    objects = temmp[:,0]\n",
    "    \n",
    "    \n",
    "    plt.bar(y_pos, performance, align='center', alpha=1)\n",
    "    plt.xticks(y_pos, objects)\n",
    "    plt.ylabel('Usage')\n",
    "    plt.title(MatchCount.most_common(1)[0][0])\n",
    "    plt.show()\n",
    "    \n",
    "    \n",
    "\n",
    "    if PercentConfidence < .32:\n",
    "        return \"Im not Sure\"\n",
    "    return (PredictedSong, str(PercentConfidence*100) + '%')\n",
    "\n",
    "\n",
    "def addSong(name, fileAddress):\n",
    "    temp = file_to_array(fileAddress)\n",
    "    songLength_database[name] = len(temp)\n",
    "    \n",
    "    print(name + \" array converted\")\n",
    "    S, f, t = spectogram(temp)\n",
    "    b = peaks(S)\n",
    "    print(name + ' peaks gotten')\n",
    "\n",
    "    peaksd = convertData(b)\n",
    "    print(name + ' data converted')\n",
    "    print(len(peaksd))\n",
    "    totalMatches_database[name] = len(peaksd)\n",
    "    \n",
    "    \n",
    "    \n",
    "    add_song_to_dict(peaksd, name)\n",
    "    print(name + ' song added')\n",
    "\n",
    "#song_database\n",
    "\n",
    "####\n",
    "\n",
    "def MicCheck(lengthOfRecording=40):\n",
    "    MicPeaks = mic_to_numpy_array(lengthOfRecording)\n",
    "    #print(len(MicPeaks))\n",
    "    print(\"Mic reocrded\")\n",
    "    Stemp, f, t = spectogram(MicPeaks)\n",
    "    MicPeaksTemp = peaks(Stemp)\n",
    "    print(\"Mic peaks gotten\")\n",
    "    peaksMicFinal = convertData(MicPeaksTemp)\n",
    "    print(\"Mic data converted\")\n",
    "    return check_database(peaksMicFinal,lengthOfRecording)"
   ]
  },
  {
   "cell_type": "code",
   "execution_count": 620,
   "metadata": {},
   "outputs": [
    {
     "name": "stdout",
     "output_type": "stream",
     "text": [
      "1.8837209302325582\n"
     ]
    },
    {
     "data": {
      "image/png": "[encoded data removed]",
      "text/plain": [
       "<matplotlib.figure.Figure at 0x5d66f1860>"
      ]
     },
     "metadata": {},
     "output_type": "display_data"
    },
    {
     "data": {
      "text/plain": [
       "('Whiplash', '42.85133815579729%')"
      ]
     },
     "execution_count": 620,
     "metadata": {},
     "output_type": "execute_result"
    }
   ],
   "source": [
    "check_database(Whiplash[0:len(Everybody)//4],10)\n",
    "#lower the recording time\n",
    "# mess with the peak slice length\n",
    "\n",
    "#DrakeTest   2.568283594844973e-05     25\n",
    "#Whiplash    2.6281920738060506e-06    2.6\n",
    "#Everybody\n",
    "\n",
    "#FrimFram    8.581851669570777e-07     .8\n",
    "#SugarHill   5.774140642172362e-07     .5\n",
    "#44032\n",
    "#336\n"
   ]
  },
  {
   "cell_type": "code",
   "execution_count": 202,
   "metadata": {
    "collapsed": true
   },
   "outputs": [],
   "source": [
    "pickle.dump( DrakeTest, open( \"DrakeTest.p\", \"wb\" ) )\n",
    "pickle.dump( SugarHill, open(\"SugarHillTest.p\",\"wb\"))\n",
    "song_database = pickle.load( open( \"song_database.p\", \"rb\" ) )"
   ]
  },
  {
   "cell_type": "code",
   "execution_count": null,
   "metadata": {
    "collapsed": true
   },
   "outputs": [],
   "source": [
    "DrakeTest\n",
    "SugarHill"
   ]
  },
  {
   "cell_type": "code",
   "execution_count": 551,
   "metadata": {},
   "outputs": [
    {
     "data": {
      "text/plain": [
       "4845"
      ]
     },
     "execution_count": 551,
     "metadata": {},
     "output_type": "execute_result"
    }
   ],
   "source": [
    "len(DrakeTest)"
   ]
  },
  {
   "cell_type": "code",
   "execution_count": 5,
   "metadata": {},
   "outputs": [
    {
     "name": "stdout",
     "output_type": "stream",
     "text": [
      "Moonlight in Vermont array converted\n",
      "Moonlight in Vermont peaks gotten\n",
      "Moonlight in Vermont data converted\n",
      "15740\n",
      "Moonlight in Vermont song added\n",
      "Hotline Bling array converted\n",
      "Hotline Bling peaks gotten\n",
      "Hotline Bling data converted\n",
      "20634\n",
      "Hotline Bling song added\n",
      "Everybody array converted\n",
      "Everybody peaks gotten\n",
      "Everybody data converted\n",
      "13230\n",
      "Everybody song added\n",
      "Go Flex array converted\n",
      "Go Flex peaks gotten\n",
      "Go Flex data converted\n",
      "14166\n",
      "Go Flex song added\n",
      "Dat $tick array converted\n",
      "Dat $tick peaks gotten\n",
      "Dat $tick data converted\n",
      "10577\n",
      "Dat $tick song added\n",
      "Congratulations array converted\n",
      "Congratulations peaks gotten\n",
      "Congratulations data converted\n",
      "16487\n",
      "Congratulations song added\n",
      "Witchcraft array converted\n",
      "Witchcraft peaks gotten\n",
      "Witchcraft data converted\n",
      "10760\n",
      "Witchcraft song added\n",
      "Mack the knife array converted\n",
      "Mack the knife peaks gotten\n",
      "Mack the knife data converted\n",
      "14570\n",
      "Mack the knife song added\n",
      "L-O-V-E array converted\n",
      "L-O-V-E peaks gotten\n",
      "L-O-V-E data converted\n",
      "12576\n",
      "L-O-V-E song added\n",
      "Summertime array converted\n",
      "Summertime peaks gotten\n",
      "Summertime data converted\n",
      "9414\n",
      "Summertime song added\n",
      "Whiplash array converted\n",
      "Whiplash peaks gotten\n",
      "Whiplash data converted\n",
      "18048\n",
      "Whiplash song added\n"
     ]
    }
   ],
   "source": [
    "addSong('Moonlight in Vermont',r\"/Users/reneegloger/Desktop/Moonlight_in_Vermont.mp3\")\n",
    "addSong('Hotline Bling',r\"/Users/reneegloger/Desktop/music/(t)rap/Drake - Hotline Bling.mp3\")\n",
    "addSong(\"Everybody\",r\"/Users/reneegloger/Desktop/music/(t)rap/Logic - Everybody (Audio).mp3\")\n",
    "addSong(\"Go Flex\",r\"/Users/reneegloger/Desktop/music/(t)rap/Post Malone - Go Flex (Official).mp3\")\n",
    "addSong(\"Dat $tick\",r\"/Users/reneegloger/Desktop/music/(t)rap/Rich Chigga - Dat $tick (Official Video).mp3\")\n",
    "#addSong(\"Black Friday\",r\"/Users/reneegloger/Desktop/music/(t)rap/Kendrick Lamar  J Cole - Black Friday.mp3\")\n",
    "#addSong(\"DNA\",r\"/Users/reneegloger/Desktop/music/(t)rap/Kendrick Lamar - DNA.mp3\")\n",
    "#addSong(\"iSpy\",r\"/Users/reneegloger/Desktop/music/(t)rap/KYLE - iSpy (feat. Lil Yachty) [Lyric Video].mp3\")\n",
    "addSong(\"Congratulations\",r\"/Users/reneegloger/Desktop/music/(t)rap/Post Malone - Congratulations ft. Quavo.mp3\")\n",
    "#addSong(\"Frim Fram Sauce\",r\"/Users/reneegloger/Desktop/music/Jazz/Diana Krall - Frim Fram Sauce.mp3\")\n",
    "addSong(\"Witchcraft\",r\"/Users/reneegloger/Desktop/music/Jazz/Frank Sinatra - Witchcraft.mp3\")\n",
    "addSong(\"Mack the knife\",r\"/Users/reneegloger/Desktop/music/Jazz/Mack the Knife-Bobby Darin.mp3\")\n",
    "#addSong(\"Frim Fram Sauce\",r\"/Users/reneegloger/Desktop/music/Jazz/Diana Krall - Frim Fram Sauce.mp3\")\n",
    "addSong(\"L-O-V-E\",r\"/Users/reneegloger/Desktop/music/Jazz/NAT KING COLE  L-O-V-E.mp3\")\n",
    "addSong(\"Summertime\",r\"/Users/reneegloger/Desktop/music/Jazz/Summertime.mp3\")\n",
    "addSong(\"Whiplash\",r\"/Users/reneegloger/Desktop/music/Jazz/Whiplash - Overture.mp3\")"
   ]
  },
  {
   "cell_type": "code",
   "execution_count": 6,
   "metadata": {
    "scrolled": true
   },
   "outputs": [
    {
     "data": {
      "text/plain": [
       "True"
      ]
     },
     "execution_count": 6,
     "metadata": {},
     "output_type": "execute_result"
    }
   ],
   "source": [
    "song_database == asdf"
   ]
  },
  {
   "cell_type": "code",
   "execution_count": 655,
   "metadata": {
    "collapsed": true
   },
   "outputs": [],
   "source": [
    "#favorite_color = { \"lion\": \"yellow\", \"kitty\": \"red\" }\n",
    "pickle.dump( song_database, open( \"song_database.p\", \"wb\" ) )"
   ]
  },
  {
   "cell_type": "code",
   "execution_count": 656,
   "metadata": {
    "collapsed": true
   },
   "outputs": [],
   "source": [
    "pickle.dump( totalMatches_database, open(\"totalMatches_database.p\", \"wb\"))\n",
    "pickle.dump( songLength_database, open(\"songLength_database.p\", \"wb\"))\n",
    "\n"
   ]
  },
  {
   "cell_type": "code",
   "execution_count": null,
   "metadata": {
    "collapsed": true
   },
   "outputs": [],
   "source": [
    "#songLength_database, totalMatches_database, song_database = pickle.load( open( \"save.p\", \"rb\" ) )"
   ]
  },
  {
   "cell_type": "code",
   "execution_count": 623,
   "metadata": {},
   "outputs": [
    {
     "data": {
      "text/plain": [
       "5"
      ]
     },
     "execution_count": 623,
     "metadata": {},
     "output_type": "execute_result"
    }
   ],
   "source": [
    "int(5.5)"
   ]
  },
  {
   "cell_type": "code",
   "execution_count": 43,
   "metadata": {},
   "outputs": [
    {
     "name": "stdout",
     "output_type": "stream",
     "text": [
      "Using input device 'Built-in Microphone'\n",
      "Recording ended\n",
      "Mic reocrded\n",
      "352256\n",
      "Mic peaks gotten\n",
      "Mic data converted\n"
     ]
    }
   ],
   "source": [
    "MicPeaks = mic_to_numpy_array(8)\n",
    "print(\"Mic reocrded\")\n",
    "print(len(MicPeaks))\n",
    "Stemp, f, t = spectogram(MicPeaks)\n",
    "MicPeaksTemp = peaks(Stemp)\n",
    "print(\"Mic peaks gotten\")\n",
    "peaksMicFinal = convertData(MicPeaksTemp)\n",
    "print(\"Mic data converted\")\n",
    "#check_database(peaksMicFinal,40)\n",
    "Whiplash = peaksMicFinal"
   ]
  },
  {
   "cell_type": "code",
   "execution_count": 44,
   "metadata": {},
   "outputs": [
    {
     "name": "stdout",
     "output_type": "stream",
     "text": [
      "4.611916264090177\n"
     ]
    },
    {
     "data": {
      "image/png": "[encoded data removed]",
      "text/plain": [
       "<matplotlib.figure.Figure at 0x1a2f9c320>"
      ]
     },
     "metadata": {},
     "output_type": "display_data"
    },
    {
     "data": {
      "text/plain": [
       "('Whiplash', '91.01186304995052%')"
      ]
     },
     "execution_count": 44,
     "metadata": {},
     "output_type": "execute_result"
    }
   ],
   "source": [
    "check_database(Whiplash,8)\n"
   ]
  },
  {
   "cell_type": "code",
   "execution_count": 36,
   "metadata": {},
   "outputs": [
    {
     "ename": "NameError",
     "evalue": "name 'FrimFram' is not defined",
     "output_type": "error",
     "traceback": [
      "\u001b[0;31m---------------------------------------------------------------------------\u001b[0m",
      "\u001b[0;31mNameError\u001b[0m                                 Traceback (most recent call last)",
      "\u001b[0;32m<ipython-input-36-35d691e458a8>\u001b[0m in \u001b[0;36m<module>\u001b[0;34m()\u001b[0m\n\u001b[0;32m----> 1\u001b[0;31m \u001b[0mlen\u001b[0m\u001b[0;34m(\u001b[0m\u001b[0mFrimFram\u001b[0m\u001b[0;34m)\u001b[0m\u001b[0;34m\u001b[0m\u001b[0m\n\u001b[0m",
      "\u001b[0;31mNameError\u001b[0m: name 'FrimFram' is not defined"
     ]
    }
   ],
   "source": [
    "len(FrimFram)"
   ]
  },
  {
   "cell_type": "code",
   "execution_count": 237,
   "metadata": {
    "scrolled": true
   },
   "outputs": [
    {
     "data": {
      "text/plain": [
       "4845"
      ]
     },
     "execution_count": 237,
     "metadata": {},
     "output_type": "execute_result"
    }
   ],
   "source": [
    "len(DrakeTest)"
   ]
  },
  {
   "cell_type": "code",
   "execution_count": 7,
   "metadata": {},
   "outputs": [
    {
     "data": {
      "text/plain": [
       "False"
      ]
     },
     "execution_count": 7,
     "metadata": {},
     "output_type": "execute_result"
    }
   ],
   "source": [
    "a = {(1,0):[('w',1),('d',43)],(34,1):[('r',65),('t',2)]}\n",
    "pickle.dump( a, open(\"a.p\",\"wb\"))\n",
    "asd = pickle.load( open( \"a.p\", \"rb\" ) )\n",
    "asdf == a"
   ]
  },
  {
   "cell_type": "code",
   "execution_count": 12,
   "metadata": {},
   "outputs": [],
   "source": [
    "for i in asdf:\n",
    "    if not asdf[i]==song_database[i]:\n",
    "        print(i,\"\\n\")"
   ]
  },
  {
   "cell_type": "code",
   "execution_count": 18,
   "metadata": {
    "collapsed": true
   },
   "outputs": [],
   "source": [
    "storage = song_database\n",
    "song_database = asdf"
   ]
  },
  {
   "cell_type": "code",
   "execution_count": 75,
   "metadata": {},
   "outputs": [
    {
     "data": {
      "text/plain": [
       "'K J F K . 0 0 5 1  zulu. 170 at 09 knots. visibility 10 statute miles.broken040 broken110 broken210 broken250 tempurature 25, dew point 22. altimeter 3 0 0 9 '"
      ]
     },
     "execution_count": 75,
     "metadata": {},
     "output_type": "execute_result"
    }
   ],
   "source": [
    "ATIS = \"KJFK 040051Z 17009KT 10SM FEW040 BKN110 BKN210 BKN250 25/22 A3009 RMK AO2 RAB15E26 SLP190 OCNL LTGIC DSNT W CB DSNT W P0000 T02500217\"\n",
    "\n",
    "ATIS = ATIS[:ATIS.find(\"RMK\")-1]\n",
    "def split(string):\n",
    "    temp = ''\n",
    "    for num in string:\n",
    "        temp += num + ' '\n",
    "\n",
    "    return temp\n",
    "\n",
    "ATIS = ATIS.split(' ')\n",
    "for i in range(len(ATIS)):\n",
    "    if i == 0:\n",
    "        ATIS[i] = (split(ATIS[i]))\n",
    "    elif i == 1:\n",
    "        ATIS[i] = \". \"+ split(ATIS[i][2:6])+ ' zulu. '\n",
    "    elif i == 2:\n",
    "        ATIS[i] = ATIS[i][:3] +\" at \"+ ATIS[i][3:5] + \" knots. \"\n",
    "    elif i == 3:\n",
    "        ATIS[i] = \"visibility, \" + ATIS[i][:2] + \" statute miles.\"\n",
    "    elif i == len(ATIS)-2:\n",
    "        ATIS[i] = \"tempurature \" + ATIS[i][:2] + \", dew point \" + ATIS[i][3:] + \".\"\n",
    "    elif i == len(ATIS)-1:\n",
    "        ATIS[i] = \" altimeter \"+ split(ATIS[i][1:])\n",
    "    else:\n",
    "        if temp == 'FEW':\n",
    "            temp = 'few'\n",
    "        elif temp == 'SCT':\n",
    "            temp = 'scattered'\n",
    "        elif temp == 'CLR':\n",
    "            temp = 'clear'\n",
    "        elif temp == 'OVC':\n",
    "            temp = 'overcast'\n",
    "        else:\n",
    "            temp = 'broken'\n",
    "        ATIS[i] = temp  +ATIS[i][3:] + \" \"\n",
    "\n",
    "temp = \"\"\n",
    "\n",
    "for item in ATIS:\n",
    "    temp += item\n",
    "    \n",
    "temp"
   ]
  },
  {
   "cell_type": "code",
   "execution_count": 54,
   "metadata": {},
   "outputs": [
    {
     "data": {
      "text/plain": [
       "['KJFK',\n",
       " '040051Z',\n",
       " '17009KT',\n",
       " '10SM',\n",
       " 'FEW040',\n",
       " 'BKN110',\n",
       " 'BKN210',\n",
       " 'BKN250',\n",
       " '25/22',\n",
       " 'A3009']"
      ]
     },
     "execution_count": 54,
     "metadata": {},
     "output_type": "execute_result"
    }
   ],
   "source": [
    "ATIS"
   ]
  },
  {
   "cell_type": "code",
   "execution_count": null,
   "metadata": {
    "collapsed": true
   },
   "outputs": [],
   "source": []
  }
 ],
 "metadata": {
  "kernelspec": {
   "display_name": "Python 3",
   "language": "python",
   "name": "python3"
  },
  "language_info": {
   "codemirror_mode": {
    "name": "ipython",
    "version": 3
   },
   "file_extension": ".py",
   "mimetype": "text/x-python",
   "name": "python",
   "nbconvert_exporter": "python",
   "pygments_lexer": "ipython3",
   "version": "3.6.1"
  }
 },
 "nbformat": 4,
 "nbformat_minor": 2
}
